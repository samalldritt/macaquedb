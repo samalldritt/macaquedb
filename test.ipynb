{
 "cells": [
  {
   "cell_type": "code",
   "execution_count": 38,
   "metadata": {},
   "outputs": [
    {
     "name": "stdout",
     "output_type": "stream",
     "text": [
      "The autoreload extension is already loaded. To reload it, use:\n",
      "  %reload_ext autoreload\n"
     ]
    }
   ],
   "source": [
    "## file for testing\n",
    "%load_ext autoreload\n",
    "%autoreload 2\n",
    "\n",
    "from Database import Database\n"
   ]
  },
  {
   "cell_type": "code",
   "execution_count": 39,
   "metadata": {},
   "outputs": [],
   "source": [
    "# Interface and building\n",
    "interface = Database('macaque_db.db')\n",
    "interface.build()"
   ]
  },
  {
   "cell_type": "code",
   "execution_count": 50,
   "metadata": {},
   "outputs": [
    {
     "name": "stdout",
     "output_type": "stream",
     "text": [
      "Session already exists in the database:\n",
      "Existing row: ('032213_ses-001', '032213', None, 'site-amu')\n",
      "New row: ('032213_ses-001', '032213', None, 'site-amu')\n",
      "Session has no columns to update, skipping\n",
      "<class 'str'>\n",
      "<class 'str'>\n",
      "<class 'str'>\n",
      "<class 'str'>\n",
      "<class 'str'>\n",
      "<class 'str'>\n"
     ]
    },
    {
     "ename": "IntegrityError",
     "evalue": "datatype mismatch",
     "output_type": "error",
     "traceback": [
      "\u001b[1;31m---------------------------------------------------------------------------\u001b[0m",
      "\u001b[1;31mIntegrityError\u001b[0m                            Traceback (most recent call last)",
      "Cell \u001b[1;32mIn[50], line 2\u001b[0m\n\u001b[0;32m      1\u001b[0m \u001b[39m# Adding data\u001b[39;00m\n\u001b[1;32m----> 2\u001b[0m interface\u001b[39m.\u001b[39;49minput(\u001b[39m'\u001b[39;49m\u001b[39mData/site-amu\u001b[39;49m\u001b[39m'\u001b[39;49m)\n",
      "File \u001b[1;32mc:\\Users\\Sam\\Documents\\Database\\MacaqueDB\\Database.py:27\u001b[0m, in \u001b[0;36mDatabase.input\u001b[1;34m(self, data_dir)\u001b[0m\n\u001b[0;32m     25\u001b[0m \u001b[39mdef\u001b[39;00m \u001b[39minput\u001b[39m(\u001b[39mself\u001b[39m, data_dir):\n\u001b[0;32m     26\u001b[0m     \u001b[39m# Inputting data into the table into table\u001b[39;00m\n\u001b[1;32m---> 27\u001b[0m     \u001b[39mself\u001b[39;49m\u001b[39m.\u001b[39;49minsert_data(data_dir)\n\u001b[0;32m     28\u001b[0m     \u001b[39mreturn\u001b[39;00m\n",
      "File \u001b[1;32mc:\\Users\\Sam\\Documents\\Database\\MacaqueDB\\Database.py:39\u001b[0m, in \u001b[0;36mDatabase.insert_data\u001b[1;34m(self, data_dir)\u001b[0m\n\u001b[0;32m     37\u001b[0m \u001b[39mif\u001b[39;00m os\u001b[39m.\u001b[39mpath\u001b[39m.\u001b[39misdir(subject_dir) \u001b[39mand\u001b[39;00m subject\u001b[39m.\u001b[39mstartswith(\u001b[39m\"\u001b[39m\u001b[39msub-\u001b[39m\u001b[39m\"\u001b[39m):  \u001b[39m# Check if the item is a directory\u001b[39;00m\n\u001b[0;32m     38\u001b[0m     subject_id \u001b[39m=\u001b[39m subject[\u001b[39mlen\u001b[39m(\u001b[39m'\u001b[39m\u001b[39msub-\u001b[39m\u001b[39m'\u001b[39m):]\n\u001b[1;32m---> 39\u001b[0m     session_count \u001b[39m=\u001b[39m \u001b[39mself\u001b[39;49m\u001b[39m.\u001b[39;49mloop_sessions(subject_dir\u001b[39m=\u001b[39;49msubject_dir, site_name\u001b[39m=\u001b[39;49msite_name, subject_id\u001b[39m=\u001b[39;49msubject_id)\n\u001b[0;32m     40\u001b[0m     new_sub \u001b[39m=\u001b[39m Subject(subject_id\u001b[39m=\u001b[39msubject_id, \n\u001b[0;32m     41\u001b[0m                       site\u001b[39m=\u001b[39msite_name, \n\u001b[0;32m     42\u001b[0m                       sessions\u001b[39m=\u001b[39msession_count)\n\u001b[0;32m     43\u001b[0m     \u001b[39mself\u001b[39m\u001b[39m.\u001b[39minsert_subject(new_sub)\n",
      "File \u001b[1;32mc:\\Users\\Sam\\Documents\\Database\\MacaqueDB\\Database.py:61\u001b[0m, in \u001b[0;36mDatabase.loop_sessions\u001b[1;34m(self, subject_dir, site_name, subject_id)\u001b[0m\n\u001b[0;32m     58\u001b[0m         \u001b[39mself\u001b[39m\u001b[39m.\u001b[39minsert_session(new_session)\n\u001b[0;32m     60\u001b[0m         \u001b[39m## Also loop all the images within this session\u001b[39;00m\n\u001b[1;32m---> 61\u001b[0m         \u001b[39mself\u001b[39;49m\u001b[39m.\u001b[39;49mloop_images(session_dir\u001b[39m=\u001b[39;49msession_path, subject_id\u001b[39m=\u001b[39;49msubject_id, session_id\u001b[39m=\u001b[39;49munique_id)\n\u001b[0;32m     62\u001b[0m         session_count \u001b[39m+\u001b[39m\u001b[39m=\u001b[39m \u001b[39m1\u001b[39m\n\u001b[0;32m     64\u001b[0m \u001b[39mreturn\u001b[39;00m session_count\n",
      "File \u001b[1;32mc:\\Users\\Sam\\Documents\\Database\\MacaqueDB\\Database.py:84\u001b[0m, in \u001b[0;36mDatabase.loop_images\u001b[1;34m(self, session_dir, subject_id, session_id)\u001b[0m\n\u001b[0;32m     77\u001b[0m             run_number \u001b[39m=\u001b[39m run_number\u001b[39m.\u001b[39mgroup(\u001b[39m1\u001b[39m)\n\u001b[0;32m     78\u001b[0m             new_image \u001b[39m=\u001b[39m Image(image_id\u001b[39m=\u001b[39m\u001b[39mstr\u001b[39m(session_id \u001b[39m+\u001b[39m \u001b[39m'\u001b[39m\u001b[39m_\u001b[39m\u001b[39m'\u001b[39m \u001b[39m+\u001b[39m \u001b[39m'\u001b[39m\u001b[39mrun-\u001b[39m\u001b[39m'\u001b[39m \u001b[39m+\u001b[39m run_number),\n\u001b[0;32m     79\u001b[0m                               session_id\u001b[39m=\u001b[39msession_id, \n\u001b[0;32m     80\u001b[0m                               subject_id\u001b[39m=\u001b[39msubject_id,\n\u001b[0;32m     81\u001b[0m                               image_type\u001b[39m=\u001b[39mos\u001b[39m.\u001b[39mpath\u001b[39m.\u001b[39mbasename(file_path),\n\u001b[0;32m     82\u001b[0m                               image_path\u001b[39m=\u001b[39mabs_file_path,\n\u001b[0;32m     83\u001b[0m                               run_number\u001b[39m=\u001b[39mrun_number)\n\u001b[1;32m---> 84\u001b[0m             \u001b[39mself\u001b[39;49m\u001b[39m.\u001b[39;49minsert_image(new_image)\n\u001b[0;32m     86\u001b[0m \u001b[39mpass\u001b[39;00m\n",
      "File \u001b[1;32mc:\\Users\\Sam\\Documents\\Database\\MacaqueDB\\Database.py:129\u001b[0m, in \u001b[0;36mDatabase.insert_image\u001b[1;34m(self, image)\u001b[0m\n\u001b[0;32m    127\u001b[0m \u001b[39mfor\u001b[39;00m value \u001b[39min\u001b[39;00m values:\n\u001b[0;32m    128\u001b[0m     \u001b[39mprint\u001b[39m(\u001b[39mtype\u001b[39m(value))\n\u001b[1;32m--> 129\u001b[0m \u001b[39mself\u001b[39;49m\u001b[39m.\u001b[39;49mcursor\u001b[39m.\u001b[39;49mexecute(query_insert, values)\n\u001b[0;32m    130\u001b[0m \u001b[39mself\u001b[39m\u001b[39m.\u001b[39mconn\u001b[39m.\u001b[39mcommit()\n\u001b[0;32m    131\u001b[0m \u001b[39mprint\u001b[39m(\u001b[39mf\u001b[39m\u001b[39m\"\u001b[39m\u001b[39mSession \u001b[39m\u001b[39m{\u001b[39;00mimage\u001b[39m.\u001b[39mimage_id\u001b[39m}\u001b[39;00m\u001b[39m inserted successfully.\u001b[39m\u001b[39m\"\u001b[39m)\n",
      "\u001b[1;31mIntegrityError\u001b[0m: datatype mismatch"
     ]
    }
   ],
   "source": [
    "# Adding data\n",
    "interface.input('Data/site-amu')"
   ]
  },
  {
   "cell_type": "code",
   "execution_count": 54,
   "metadata": {},
   "outputs": [],
   "source": [
    "interface.close()"
   ]
  },
  {
   "cell_type": "code",
   "execution_count": 36,
   "metadata": {},
   "outputs": [
    {
     "name": "stdout",
     "output_type": "stream",
     "text": [
      "Data/site-amu ['sub-032213', 'sub-032214', 'sub-032215', 'sub-032216'] ['dataset_description.json']\n",
      "c:\\Users\\Sam\\Documents\\Database\\MacaqueDB\\Data\\site-amu\n",
      "Data/site-amu\\sub-032213 ['ses-001'] []\n",
      "c:\\Users\\Sam\\Documents\\Database\\MacaqueDB\\Data\\site-amu\n",
      "Data/site-amu\\sub-032213\\ses-001 ['anat', 'dwi'] []\n",
      "c:\\Users\\Sam\\Documents\\Database\\MacaqueDB\\Data\\site-amu\n",
      "Data/site-amu\\sub-032213\\ses-001\\anat [] ['sub-032213_ses-001_run-1_T1w.json', 'sub-032213_ses-001_run-1_T1w.nii.gz', 'sub-032213_ses-001_run-1_T2w.json', 'sub-032213_ses-001_run-1_T2w.nii.gz']\n",
      "c:\\Users\\Sam\\Documents\\Database\\MacaqueDB\\Data\\site-amu\n",
      "Data/site-amu\\sub-032213\\ses-001\\dwi [] ['sub-032213_ses-001_dir-AP_run-1_dwi.bval', 'sub-032213_ses-001_dir-AP_run-1_dwi.bvec', 'sub-032213_ses-001_dir-AP_run-1_dwi.json', 'sub-032213_ses-001_dir-AP_run-1_dwi.nii.gz', 'sub-032213_ses-001_dir-PA_run-1_dwi.bval', 'sub-032213_ses-001_dir-PA_run-1_dwi.bvec', 'sub-032213_ses-001_dir-PA_run-1_dwi.json', 'sub-032213_ses-001_dir-PA_run-1_dwi.nii.gz']\n",
      "c:\\Users\\Sam\\Documents\\Database\\MacaqueDB\\Data\\site-amu\n",
      "Data/site-amu\\sub-032214 ['ses-001'] []\n",
      "c:\\Users\\Sam\\Documents\\Database\\MacaqueDB\\Data\\site-amu\n",
      "Data/site-amu\\sub-032214\\ses-001 ['anat', 'dwi'] []\n",
      "c:\\Users\\Sam\\Documents\\Database\\MacaqueDB\\Data\\site-amu\n",
      "Data/site-amu\\sub-032214\\ses-001\\anat [] ['sub-032214_ses-001_run-1_T1w.json', 'sub-032214_ses-001_run-1_T1w.nii.gz', 'sub-032214_ses-001_run-1_T2w.json', 'sub-032214_ses-001_run-1_T2w.nii.gz']\n",
      "c:\\Users\\Sam\\Documents\\Database\\MacaqueDB\\Data\\site-amu\n",
      "Data/site-amu\\sub-032214\\ses-001\\dwi [] ['sub-032214_ses-001_dir-AP_run-1_dwi.bval', 'sub-032214_ses-001_dir-AP_run-1_dwi.bvec', 'sub-032214_ses-001_dir-AP_run-1_dwi.json', 'sub-032214_ses-001_dir-AP_run-1_dwi.nii.gz', 'sub-032214_ses-001_dir-PA_run-1_dwi.bval', 'sub-032214_ses-001_dir-PA_run-1_dwi.bvec', 'sub-032214_ses-001_dir-PA_run-1_dwi.json', 'sub-032214_ses-001_dir-PA_run-1_dwi.nii.gz']\n",
      "c:\\Users\\Sam\\Documents\\Database\\MacaqueDB\\Data\\site-amu\n",
      "Data/site-amu\\sub-032215 ['ses-001'] []\n",
      "c:\\Users\\Sam\\Documents\\Database\\MacaqueDB\\Data\\site-amu\n",
      "Data/site-amu\\sub-032215\\ses-001 ['anat', 'dwi'] []\n",
      "c:\\Users\\Sam\\Documents\\Database\\MacaqueDB\\Data\\site-amu\n",
      "Data/site-amu\\sub-032215\\ses-001\\anat [] ['sub-032215_ses-001_run-1_T1w.json', 'sub-032215_ses-001_run-1_T1w.nii.gz', 'sub-032215_ses-001_run-1_T2w.json', 'sub-032215_ses-001_run-1_T2w.nii.gz']\n",
      "c:\\Users\\Sam\\Documents\\Database\\MacaqueDB\\Data\\site-amu\n",
      "Data/site-amu\\sub-032215\\ses-001\\dwi [] ['sub-032215_ses-001_dir-AP_run-1_dwi.bval', 'sub-032215_ses-001_dir-AP_run-1_dwi.bvec', 'sub-032215_ses-001_dir-AP_run-1_dwi.json', 'sub-032215_ses-001_dir-AP_run-1_dwi.nii.gz', 'sub-032215_ses-001_dir-PA_run-1_dwi.bval', 'sub-032215_ses-001_dir-PA_run-1_dwi.bvec', 'sub-032215_ses-001_dir-PA_run-1_dwi.json', 'sub-032215_ses-001_dir-PA_run-1_dwi.nii.gz']\n",
      "c:\\Users\\Sam\\Documents\\Database\\MacaqueDB\\Data\\site-amu\n",
      "Data/site-amu\\sub-032216 ['ses-001'] []\n",
      "c:\\Users\\Sam\\Documents\\Database\\MacaqueDB\\Data\\site-amu\n",
      "Data/site-amu\\sub-032216\\ses-001 ['anat', 'dwi'] []\n",
      "c:\\Users\\Sam\\Documents\\Database\\MacaqueDB\\Data\\site-amu\n",
      "Data/site-amu\\sub-032216\\ses-001\\anat [] ['sub-032216_ses-001_run-1_T1w.json', 'sub-032216_ses-001_run-1_T1w.nii.gz', 'sub-032216_ses-001_run-1_T2w.json', 'sub-032216_ses-001_run-1_T2w.nii.gz']\n",
      "c:\\Users\\Sam\\Documents\\Database\\MacaqueDB\\Data\\site-amu\n",
      "Data/site-amu\\sub-032216\\ses-001\\dwi [] ['sub-032216_ses-001_dir-AP_run-1_dwi.bval', 'sub-032216_ses-001_dir-AP_run-1_dwi.bvec', 'sub-032216_ses-001_dir-AP_run-1_dwi.json', 'sub-032216_ses-001_dir-AP_run-1_dwi.nii.gz', 'sub-032216_ses-001_dir-PA_run-1_dwi.bval', 'sub-032216_ses-001_dir-PA_run-1_dwi.bvec', 'sub-032216_ses-001_dir-PA_run-1_dwi.json', 'sub-032216_ses-001_dir-PA_run-1_dwi.nii.gz']\n",
      "c:\\Users\\Sam\\Documents\\Database\\MacaqueDB\\Data\\site-amu\n"
     ]
    }
   ],
   "source": [
    "import os\n",
    "for root, dirs, file in os.walk('Data/site-amu'):\n",
    "    print(root, dirs, file)\n",
    "    print(os.path.abspath('Data/site-amu'))"
   ]
  },
  {
   "cell_type": "code",
   "execution_count": 11,
   "metadata": {},
   "outputs": [],
   "source": [
    "## Practice query data\n",
    "\n",
    "import sqlite3\n",
    "\n",
    "conn = sqlite3.connect('macaque_db.db')\n",
    "cursor = conn.cursor()\n",
    "\n",
    "cursor.execute(\"SELECT * FROM Subject\")\n",
    "results = cursor.fetchall()\n",
    "\n",
    "conn.close()"
   ]
  },
  {
   "cell_type": "code",
   "execution_count": 12,
   "metadata": {},
   "outputs": [
    {
     "name": "stdout",
     "output_type": "stream",
     "text": [
      "[('032213', 'site-amu', 2, None), ('032214', 'site-amu', 1, None), ('032215', 'site-amu', 1, None), ('032216', 'site-amu', 1, None)]\n"
     ]
    }
   ],
   "source": [
    "print(results)"
   ]
  }
 ],
 "metadata": {
  "kernelspec": {
   "display_name": "Python 3",
   "language": "python",
   "name": "python3"
  },
  "language_info": {
   "codemirror_mode": {
    "name": "ipython",
    "version": 3
   },
   "file_extension": ".py",
   "mimetype": "text/x-python",
   "name": "python",
   "nbconvert_exporter": "python",
   "pygments_lexer": "ipython3",
   "version": "3.11.4"
  },
  "orig_nbformat": 4
 },
 "nbformat": 4,
 "nbformat_minor": 2
}
