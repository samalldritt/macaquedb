{
 "cells": [
  {
   "cell_type": "code",
   "execution_count": 1,
   "metadata": {},
   "outputs": [],
   "source": [
    "## file for testing\n",
    "%load_ext autoreload\n",
    "%autoreload 2\n",
    "\n",
    "from Database import Database\n"
   ]
  },
  {
   "cell_type": "code",
   "execution_count": 2,
   "metadata": {},
   "outputs": [],
   "source": [
    "# Interface and building\n",
    "interface = Database('macaque_db.db')\n",
    "interface.build()"
   ]
  },
  {
   "cell_type": "code",
   "execution_count": 6,
   "metadata": {},
   "outputs": [
    {
     "name": "stdout",
     "output_type": "stream",
     "text": [
      "Subject already exists in the database:\n",
      "Existing row: (32213, 'site-amu', 1, None)\n",
      "New row: ('032213', 'site-amu', 2, None)\n",
      "Subject updated successfully.\n",
      "Subject already exists in the database:\n",
      "Existing row: (32214, 'site-amu', 1, None)\n",
      "New row: ('032214', 'site-amu', 1, None)\n",
      "Subject updated successfully.\n",
      "Subject already exists in the database:\n",
      "Existing row: (32215, 'site-amu', 1, None)\n",
      "New row: ('032215', 'site-amu', 1, None)\n",
      "Subject updated successfully.\n",
      "Subject already exists in the database:\n",
      "Existing row: (32216, 'site-amu', 1, None)\n",
      "New row: ('032216', 'site-amu', 1, None)\n",
      "Subject updated successfully.\n"
     ]
    }
   ],
   "source": [
    "# Adding data\n",
    "interface.input('Data/site-amu')"
   ]
  },
  {
   "cell_type": "code",
   "execution_count": null,
   "metadata": {},
   "outputs": [],
   "source": [
    "interface.close()"
   ]
  },
  {
   "cell_type": "code",
   "execution_count": 4,
   "metadata": {},
   "outputs": [],
   "source": [
    "## Practice query data\n",
    "\n",
    "import sqlite3\n",
    "\n",
    "conn = sqlite3.connect('macaque_db.db')\n",
    "cursor = conn.cursor()\n",
    "\n",
    "cursor.execute(\"SELECT * FROM Subject\")\n",
    "results = cursor.fetchall()\n",
    "\n",
    "conn.close()"
   ]
  },
  {
   "cell_type": "code",
   "execution_count": 5,
   "metadata": {},
   "outputs": [
    {
     "name": "stdout",
     "output_type": "stream",
     "text": [
      "[(32213, 'site-amu', 1, None), (32214, 'site-amu', 1, None), (32215, 'site-amu', 1, None), (32216, 'site-amu', 1, None)]\n"
     ]
    }
   ],
   "source": [
    "print(results)"
   ]
  }
 ],
 "metadata": {
  "kernelspec": {
   "display_name": "Python 3",
   "language": "python",
   "name": "python3"
  },
  "language_info": {
   "codemirror_mode": {
    "name": "ipython",
    "version": 3
   },
   "file_extension": ".py",
   "mimetype": "text/x-python",
   "name": "python",
   "nbconvert_exporter": "python",
   "pygments_lexer": "ipython3",
   "version": "3.11.4"
  },
  "orig_nbformat": 4
 },
 "nbformat": 4,
 "nbformat_minor": 2
}
