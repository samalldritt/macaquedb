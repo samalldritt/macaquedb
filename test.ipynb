{
 "cells": [
  {
   "cell_type": "code",
   "execution_count": 1,
   "metadata": {},
   "outputs": [],
   "source": [
    "## file for testing\n",
    "%load_ext autoreload\n",
    "%autoreload 2\n",
    "\n",
    "from Database import Database\n"
   ]
  },
  {
   "cell_type": "code",
   "execution_count": 2,
   "metadata": {},
   "outputs": [],
   "source": [
    "# Interface and building\n",
    "interface = Database('macaque_db.db')\n",
    "interface.build()"
   ]
  },
  {
   "cell_type": "code",
   "execution_count": 3,
   "metadata": {},
   "outputs": [
    {
     "name": "stdout",
     "output_type": "stream",
     "text": [
      "Image sub-032102_ses-002_run-1_T2w.nii.gz inserted successfully.\n",
      "Image sub-032102_ses-002_run-1_T1w.nii.gz inserted successfully.\n",
      "Session 032102_ses-002 inserted successfully.\n",
      "Subject 032102 inserted successfully.\n",
      "Image sub-032106_ses-001_run-1_T1w.nii.gz inserted successfully.\n",
      "Image sub-032106_ses-001_run-1_T2w.nii.gz inserted successfully.\n",
      "Session 032106_ses-001 inserted successfully.\n",
      "Subject 032106 inserted successfully.\n"
     ]
    }
   ],
   "source": [
    "# Adding data\n",
    "interface.input('Data/site-newcastle')"
   ]
  },
  {
   "cell_type": "code",
   "execution_count": 4,
   "metadata": {},
   "outputs": [],
   "source": [
    "interface.close()"
   ]
  },
  {
   "cell_type": "code",
   "execution_count": 36,
   "metadata": {},
   "outputs": [
    {
     "name": "stdout",
     "output_type": "stream",
     "text": [
      "Data/site-amu ['sub-032213', 'sub-032214', 'sub-032215', 'sub-032216'] ['dataset_description.json']\n",
      "c:\\Users\\Sam\\Documents\\Database\\MacaqueDB\\Data\\site-amu\n",
      "Data/site-amu\\sub-032213 ['ses-001'] []\n",
      "c:\\Users\\Sam\\Documents\\Database\\MacaqueDB\\Data\\site-amu\n",
      "Data/site-amu\\sub-032213\\ses-001 ['anat', 'dwi'] []\n",
      "c:\\Users\\Sam\\Documents\\Database\\MacaqueDB\\Data\\site-amu\n",
      "Data/site-amu\\sub-032213\\ses-001\\anat [] ['sub-032213_ses-001_run-1_T1w.json', 'sub-032213_ses-001_run-1_T1w.nii.gz', 'sub-032213_ses-001_run-1_T2w.json', 'sub-032213_ses-001_run-1_T2w.nii.gz']\n",
      "c:\\Users\\Sam\\Documents\\Database\\MacaqueDB\\Data\\site-amu\n",
      "Data/site-amu\\sub-032213\\ses-001\\dwi [] ['sub-032213_ses-001_dir-AP_run-1_dwi.bval', 'sub-032213_ses-001_dir-AP_run-1_dwi.bvec', 'sub-032213_ses-001_dir-AP_run-1_dwi.json', 'sub-032213_ses-001_dir-AP_run-1_dwi.nii.gz', 'sub-032213_ses-001_dir-PA_run-1_dwi.bval', 'sub-032213_ses-001_dir-PA_run-1_dwi.bvec', 'sub-032213_ses-001_dir-PA_run-1_dwi.json', 'sub-032213_ses-001_dir-PA_run-1_dwi.nii.gz']\n",
      "c:\\Users\\Sam\\Documents\\Database\\MacaqueDB\\Data\\site-amu\n",
      "Data/site-amu\\sub-032214 ['ses-001'] []\n",
      "c:\\Users\\Sam\\Documents\\Database\\MacaqueDB\\Data\\site-amu\n",
      "Data/site-amu\\sub-032214\\ses-001 ['anat', 'dwi'] []\n",
      "c:\\Users\\Sam\\Documents\\Database\\MacaqueDB\\Data\\site-amu\n",
      "Data/site-amu\\sub-032214\\ses-001\\anat [] ['sub-032214_ses-001_run-1_T1w.json', 'sub-032214_ses-001_run-1_T1w.nii.gz', 'sub-032214_ses-001_run-1_T2w.json', 'sub-032214_ses-001_run-1_T2w.nii.gz']\n",
      "c:\\Users\\Sam\\Documents\\Database\\MacaqueDB\\Data\\site-amu\n",
      "Data/site-amu\\sub-032214\\ses-001\\dwi [] ['sub-032214_ses-001_dir-AP_run-1_dwi.bval', 'sub-032214_ses-001_dir-AP_run-1_dwi.bvec', 'sub-032214_ses-001_dir-AP_run-1_dwi.json', 'sub-032214_ses-001_dir-AP_run-1_dwi.nii.gz', 'sub-032214_ses-001_dir-PA_run-1_dwi.bval', 'sub-032214_ses-001_dir-PA_run-1_dwi.bvec', 'sub-032214_ses-001_dir-PA_run-1_dwi.json', 'sub-032214_ses-001_dir-PA_run-1_dwi.nii.gz']\n",
      "c:\\Users\\Sam\\Documents\\Database\\MacaqueDB\\Data\\site-amu\n",
      "Data/site-amu\\sub-032215 ['ses-001'] []\n",
      "c:\\Users\\Sam\\Documents\\Database\\MacaqueDB\\Data\\site-amu\n",
      "Data/site-amu\\sub-032215\\ses-001 ['anat', 'dwi'] []\n",
      "c:\\Users\\Sam\\Documents\\Database\\MacaqueDB\\Data\\site-amu\n",
      "Data/site-amu\\sub-032215\\ses-001\\anat [] ['sub-032215_ses-001_run-1_T1w.json', 'sub-032215_ses-001_run-1_T1w.nii.gz', 'sub-032215_ses-001_run-1_T2w.json', 'sub-032215_ses-001_run-1_T2w.nii.gz']\n",
      "c:\\Users\\Sam\\Documents\\Database\\MacaqueDB\\Data\\site-amu\n",
      "Data/site-amu\\sub-032215\\ses-001\\dwi [] ['sub-032215_ses-001_dir-AP_run-1_dwi.bval', 'sub-032215_ses-001_dir-AP_run-1_dwi.bvec', 'sub-032215_ses-001_dir-AP_run-1_dwi.json', 'sub-032215_ses-001_dir-AP_run-1_dwi.nii.gz', 'sub-032215_ses-001_dir-PA_run-1_dwi.bval', 'sub-032215_ses-001_dir-PA_run-1_dwi.bvec', 'sub-032215_ses-001_dir-PA_run-1_dwi.json', 'sub-032215_ses-001_dir-PA_run-1_dwi.nii.gz']\n",
      "c:\\Users\\Sam\\Documents\\Database\\MacaqueDB\\Data\\site-amu\n",
      "Data/site-amu\\sub-032216 ['ses-001'] []\n",
      "c:\\Users\\Sam\\Documents\\Database\\MacaqueDB\\Data\\site-amu\n",
      "Data/site-amu\\sub-032216\\ses-001 ['anat', 'dwi'] []\n",
      "c:\\Users\\Sam\\Documents\\Database\\MacaqueDB\\Data\\site-amu\n",
      "Data/site-amu\\sub-032216\\ses-001\\anat [] ['sub-032216_ses-001_run-1_T1w.json', 'sub-032216_ses-001_run-1_T1w.nii.gz', 'sub-032216_ses-001_run-1_T2w.json', 'sub-032216_ses-001_run-1_T2w.nii.gz']\n",
      "c:\\Users\\Sam\\Documents\\Database\\MacaqueDB\\Data\\site-amu\n",
      "Data/site-amu\\sub-032216\\ses-001\\dwi [] ['sub-032216_ses-001_dir-AP_run-1_dwi.bval', 'sub-032216_ses-001_dir-AP_run-1_dwi.bvec', 'sub-032216_ses-001_dir-AP_run-1_dwi.json', 'sub-032216_ses-001_dir-AP_run-1_dwi.nii.gz', 'sub-032216_ses-001_dir-PA_run-1_dwi.bval', 'sub-032216_ses-001_dir-PA_run-1_dwi.bvec', 'sub-032216_ses-001_dir-PA_run-1_dwi.json', 'sub-032216_ses-001_dir-PA_run-1_dwi.nii.gz']\n",
      "c:\\Users\\Sam\\Documents\\Database\\MacaqueDB\\Data\\site-amu\n"
     ]
    }
   ],
   "source": [
    "import os\n",
    "for root, dirs, file in os.walk('Data/site-amu'):\n",
    "    print(root, dirs, file)\n",
    "    print(os.path.abspath('Data/site-amu'))"
   ]
  },
  {
   "cell_type": "code",
   "execution_count": 5,
   "metadata": {},
   "outputs": [],
   "source": [
    "## Practice query data\n",
    "\n",
    "import sqlite3\n",
    "\n",
    "conn = sqlite3.connect('macaque_db.db')\n",
    "cursor = conn.cursor()\n",
    "\n",
    "cursor.execute(\"SELECT * FROM Subject\")\n",
    "all_subjects = cursor.fetchall()\n",
    "\n",
    "subject_id = '032213'\n",
    "query = \"SELECT * FROM Session WHERE subject_id = ?\"\n",
    "cursor.execute(query, (subject_id,))\n",
    "sessions = cursor.fetchall()\n",
    "\n",
    "query = \"SELECT gender FROM Subject\"\n",
    "cursor.execute(query)\n",
    "genders = cursor.fetchall()\n",
    "\n",
    "query = \"SELECT image_path FROM Image WHERE site = 'site-amu'\"\n",
    "cursor.execute(query)\n",
    "image_paths = cursor.fetchall()\n",
    "\n",
    "conn.close()"
   ]
  },
  {
   "cell_type": "code",
   "execution_count": 6,
   "metadata": {},
   "outputs": [
    {
     "name": "stdout",
     "output_type": "stream",
     "text": [
      "[('032213', 'site-amu', 1, None), ('032214', 'site-amu', 1, None), ('032215', 'site-amu', 1, None), ('032216', 'site-amu', 1, None)]\n",
      "[('032213_ses-001', '032213', None, 'site-amu', 4)]\n",
      "[(None,), (None,), (None,), (None,)]\n",
      "[('c:\\\\Users\\\\Sam\\\\Documents\\\\Database\\\\MacaqueDB\\\\sub-032213_ses-001_run-1_T1w.nii.gz',), ('c:\\\\Users\\\\Sam\\\\Documents\\\\Database\\\\MacaqueDB\\\\sub-032213_ses-001_run-1_T2w.nii.gz',), ('c:\\\\Users\\\\Sam\\\\Documents\\\\Database\\\\MacaqueDB\\\\sub-032213_ses-001_dir-AP_run-1_dwi.nii.gz',), ('c:\\\\Users\\\\Sam\\\\Documents\\\\Database\\\\MacaqueDB\\\\sub-032213_ses-001_dir-PA_run-1_dwi.nii.gz',), ('c:\\\\Users\\\\Sam\\\\Documents\\\\Database\\\\MacaqueDB\\\\sub-032214_ses-001_run-1_T1w.nii.gz',), ('c:\\\\Users\\\\Sam\\\\Documents\\\\Database\\\\MacaqueDB\\\\sub-032214_ses-001_run-1_T2w.nii.gz',), ('c:\\\\Users\\\\Sam\\\\Documents\\\\Database\\\\MacaqueDB\\\\sub-032214_ses-001_dir-AP_run-1_dwi.nii.gz',), ('c:\\\\Users\\\\Sam\\\\Documents\\\\Database\\\\MacaqueDB\\\\sub-032214_ses-001_dir-PA_run-1_dwi.nii.gz',), ('c:\\\\Users\\\\Sam\\\\Documents\\\\Database\\\\MacaqueDB\\\\sub-032215_ses-001_run-1_T1w.nii.gz',), ('c:\\\\Users\\\\Sam\\\\Documents\\\\Database\\\\MacaqueDB\\\\sub-032215_ses-001_run-1_T2w.nii.gz',), ('c:\\\\Users\\\\Sam\\\\Documents\\\\Database\\\\MacaqueDB\\\\sub-032215_ses-001_dir-AP_run-1_dwi.nii.gz',), ('c:\\\\Users\\\\Sam\\\\Documents\\\\Database\\\\MacaqueDB\\\\sub-032215_ses-001_dir-PA_run-1_dwi.nii.gz',), ('c:\\\\Users\\\\Sam\\\\Documents\\\\Database\\\\MacaqueDB\\\\sub-032216_ses-001_run-1_T1w.nii.gz',), ('c:\\\\Users\\\\Sam\\\\Documents\\\\Database\\\\MacaqueDB\\\\sub-032216_ses-001_run-1_T2w.nii.gz',), ('c:\\\\Users\\\\Sam\\\\Documents\\\\Database\\\\MacaqueDB\\\\sub-032216_ses-001_dir-AP_run-1_dwi.nii.gz',), ('c:\\\\Users\\\\Sam\\\\Documents\\\\Database\\\\MacaqueDB\\\\sub-032216_ses-001_dir-PA_run-1_dwi.nii.gz',)]\n"
     ]
    }
   ],
   "source": [
    "print(all_subjects)\n",
    "print(sessions)\n",
    "print(genders)\n",
    "print(image_paths)"
   ]
  }
 ],
 "metadata": {
  "kernelspec": {
   "display_name": "Python 3.10.5 64-bit",
   "language": "python",
   "name": "python3"
  },
  "language_info": {
   "codemirror_mode": {
    "name": "ipython",
    "version": 3
   },
   "file_extension": ".py",
   "mimetype": "text/x-python",
   "name": "python",
   "nbconvert_exporter": "python",
   "pygments_lexer": "ipython3",
   "version": "3.10.5"
  },
  "orig_nbformat": 4,
  "vscode": {
   "interpreter": {
    "hash": "aee8b7b246df8f9039afb4144a1f6fd8d2ca17a180786b69acc140d282b71a49"
   }
  }
 },
 "nbformat": 4,
 "nbformat_minor": 2
}
