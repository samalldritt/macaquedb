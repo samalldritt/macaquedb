{
 "cells": [
  {
   "cell_type": "code",
   "execution_count": 17,
   "metadata": {},
   "outputs": [
    {
     "name": "stdout",
     "output_type": "stream",
     "text": [
      "The autoreload extension is already loaded. To reload it, use:\n",
      "  %reload_ext autoreload\n"
     ]
    }
   ],
   "source": [
    "## file for testing\n",
    "%load_ext autoreload\n",
    "%autoreload 2\n",
    "\n",
    "from Database import Database\n"
   ]
  },
  {
   "cell_type": "code",
   "execution_count": 18,
   "metadata": {},
   "outputs": [],
   "source": [
    "# Interface and building\n",
    "interface = Database('macaque_db.db')\n",
    "interface.build()"
   ]
  },
  {
   "cell_type": "code",
   "execution_count": 30,
   "metadata": {},
   "outputs": [
    {
     "name": "stdout",
     "output_type": "stream",
     "text": [
      "Session already exists in the database:\n",
      "Existing row: ('032213_ses-001', '032213', None, 'site-amu')\n",
      "New row: ('032213_ses-001', '032213', None, 'site-amu')\n",
      "Session has no columns to update, skipping\n",
      "Session 032213_ses-002 inserted successfully.\n",
      "Subject already exists in the database:\n",
      "Existing row: ('032213', 'site-amu', 1, None)\n",
      "New row: ('032213', 'site-amu', 2, None)\n",
      "Subject not updated.\n",
      "Session already exists in the database:\n",
      "Existing row: ('032214_ses-001', '032214', None, 'site-amu')\n",
      "New row: ('032214_ses-001', '032214', None, 'site-amu')\n",
      "Session has no columns to update, skipping\n",
      "Subject already exists in the database:\n",
      "Existing row: ('032214', 'site-amu', 1, None)\n",
      "New row: ('032214', 'site-amu', 1, None)\n",
      "Subject has no columns to update, skipping\n",
      "Session already exists in the database:\n",
      "Existing row: ('032215_ses-001', '032215', None, 'site-amu')\n",
      "New row: ('032215_ses-001', '032215', None, 'site-amu')\n",
      "Session has no columns to update, skipping\n",
      "Subject already exists in the database:\n",
      "Existing row: ('032215', 'site-amu', 1, None)\n",
      "New row: ('032215', 'site-amu', 1, None)\n",
      "Subject has no columns to update, skipping\n",
      "Session already exists in the database:\n",
      "Existing row: ('032216_ses-001', '032216', None, 'site-amu')\n",
      "New row: ('032216_ses-001', '032216', None, 'site-amu')\n",
      "Session has no columns to update, skipping\n",
      "Subject already exists in the database:\n",
      "Existing row: ('032216', 'site-amu', 1, None)\n",
      "New row: ('032216', 'site-amu', 1, None)\n",
      "Subject has no columns to update, skipping\n"
     ]
    }
   ],
   "source": [
    "# Adding data\n",
    "interface.input('Data/site-amu')"
   ]
  },
  {
   "cell_type": "code",
   "execution_count": 16,
   "metadata": {},
   "outputs": [],
   "source": [
    "interface.close()"
   ]
  },
  {
   "cell_type": "code",
   "execution_count": 11,
   "metadata": {},
   "outputs": [],
   "source": [
    "## Practice query data\n",
    "\n",
    "import sqlite3\n",
    "\n",
    "conn = sqlite3.connect('macaque_db.db')\n",
    "cursor = conn.cursor()\n",
    "\n",
    "cursor.execute(\"SELECT * FROM Subject\")\n",
    "results = cursor.fetchall()\n",
    "\n",
    "conn.close()"
   ]
  },
  {
   "cell_type": "code",
   "execution_count": 12,
   "metadata": {},
   "outputs": [
    {
     "name": "stdout",
     "output_type": "stream",
     "text": [
      "[('032213', 'site-amu', 2, None), ('032214', 'site-amu', 1, None), ('032215', 'site-amu', 1, None), ('032216', 'site-amu', 1, None)]\n"
     ]
    }
   ],
   "source": [
    "print(results)"
   ]
  }
 ],
 "metadata": {
  "kernelspec": {
   "display_name": "Python 3",
   "language": "python",
   "name": "python3"
  },
  "language_info": {
   "codemirror_mode": {
    "name": "ipython",
    "version": 3
   },
   "file_extension": ".py",
   "mimetype": "text/x-python",
   "name": "python",
   "nbconvert_exporter": "python",
   "pygments_lexer": "ipython3",
   "version": "3.11.4"
  },
  "orig_nbformat": 4
 },
 "nbformat": 4,
 "nbformat_minor": 2
}
