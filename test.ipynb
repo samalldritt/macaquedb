{
 "cells": [
  {
   "cell_type": "code",
   "execution_count": 8,
   "metadata": {},
   "outputs": [
    {
     "name": "stdout",
     "output_type": "stream",
     "text": [
      "The autoreload extension is already loaded. To reload it, use:\n",
      "  %reload_ext autoreload\n"
     ]
    }
   ],
   "source": [
    "## file for testing\n",
    "%load_ext autoreload\n",
    "%autoreload 2\n",
    "\n",
    "from Database import Database\n"
   ]
  },
  {
   "cell_type": "code",
   "execution_count": 9,
   "metadata": {},
   "outputs": [],
   "source": [
    "# Interface and building\n",
    "interface = Database('macaque_db.db')\n",
    "interface.build()"
   ]
  },
  {
   "cell_type": "code",
   "execution_count": 10,
   "metadata": {},
   "outputs": [
    {
     "name": "stdout",
     "output_type": "stream",
     "text": [
      "Image already exists in the database:\n",
      "Existing row: ('sub-032213_ses-001_run-1_T1w.nii.gz', '032213_ses-001', '032213', 'sub-032213_ses-001_run-1_T1w.nii.gz', 'c:\\\\Users\\\\Sam\\\\Documents\\\\Database\\\\MacaqueDB\\\\sub-032213_ses-001_run-1_T1w.nii.gz', 1, 'site-amu')\n",
      "New row: ('sub-032213_ses-001_run-1_T1w.nii.gz', '032213_ses-001', '032213', 'anat', 'c:\\\\Users\\\\Sam\\\\Documents\\\\Database\\\\MacaqueDB\\\\sub-032213_ses-001_run-1_T1w.nii.gz', '1', 'site-amu')\n",
      "Image updated successfully.\n",
      "Image already exists in the database:\n",
      "Existing row: ('sub-032213_ses-001_run-1_T2w.nii.gz', '032213_ses-001', '032213', 'sub-032213_ses-001_run-1_T2w.nii.gz', 'c:\\\\Users\\\\Sam\\\\Documents\\\\Database\\\\MacaqueDB\\\\sub-032213_ses-001_run-1_T2w.nii.gz', 1, 'site-amu')\n",
      "New row: ('sub-032213_ses-001_run-1_T2w.nii.gz', '032213_ses-001', '032213', 'anat', 'c:\\\\Users\\\\Sam\\\\Documents\\\\Database\\\\MacaqueDB\\\\sub-032213_ses-001_run-1_T2w.nii.gz', '1', 'site-amu')\n",
      "Image updated successfully.\n",
      "Image already exists in the database:\n",
      "Existing row: ('sub-032213_ses-001_dir-AP_run-1_dwi.nii.gz', '032213_ses-001', '032213', 'sub-032213_ses-001_dir-AP_run-1_dwi.nii.gz', 'c:\\\\Users\\\\Sam\\\\Documents\\\\Database\\\\MacaqueDB\\\\sub-032213_ses-001_dir-AP_run-1_dwi.nii.gz', 1, 'site-amu')\n",
      "New row: ('sub-032213_ses-001_dir-AP_run-1_dwi.nii.gz', '032213_ses-001', '032213', 'dwi', 'c:\\\\Users\\\\Sam\\\\Documents\\\\Database\\\\MacaqueDB\\\\sub-032213_ses-001_dir-AP_run-1_dwi.nii.gz', '1', 'site-amu')\n",
      "Image updated successfully.\n",
      "Image already exists in the database:\n",
      "Existing row: ('sub-032213_ses-001_dir-PA_run-1_dwi.nii.gz', '032213_ses-001', '032213', 'sub-032213_ses-001_dir-PA_run-1_dwi.nii.gz', 'c:\\\\Users\\\\Sam\\\\Documents\\\\Database\\\\MacaqueDB\\\\sub-032213_ses-001_dir-PA_run-1_dwi.nii.gz', 1, 'site-amu')\n",
      "New row: ('sub-032213_ses-001_dir-PA_run-1_dwi.nii.gz', '032213_ses-001', '032213', 'dwi', 'c:\\\\Users\\\\Sam\\\\Documents\\\\Database\\\\MacaqueDB\\\\sub-032213_ses-001_dir-PA_run-1_dwi.nii.gz', '1', 'site-amu')\n",
      "Image updated successfully.\n",
      "Session already exists in the database:\n",
      "Existing row: ('032213_ses-001', '032213', None, 'site-amu', 4)\n",
      "New row: ('032213_ses-001', '032213', None, 'site-amu', 4)\n",
      "Session has no columns to update, skipping\n",
      "Subject already exists in the database:\n",
      "Existing row: ('032213', 'site-amu', 1, None)\n",
      "New row: ('032213', 'site-amu', 1, None)\n",
      "Subject has no columns to update, skipping\n",
      "Image already exists in the database:\n",
      "Existing row: ('sub-032214_ses-001_run-1_T1w.nii.gz', '032214_ses-001', '032214', 'sub-032214_ses-001_run-1_T1w.nii.gz', 'c:\\\\Users\\\\Sam\\\\Documents\\\\Database\\\\MacaqueDB\\\\sub-032214_ses-001_run-1_T1w.nii.gz', 1, 'site-amu')\n",
      "New row: ('sub-032214_ses-001_run-1_T1w.nii.gz', '032214_ses-001', '032214', 'anat', 'c:\\\\Users\\\\Sam\\\\Documents\\\\Database\\\\MacaqueDB\\\\sub-032214_ses-001_run-1_T1w.nii.gz', '1', 'site-amu')\n",
      "Image updated successfully.\n",
      "Image already exists in the database:\n",
      "Existing row: ('sub-032214_ses-001_run-1_T2w.nii.gz', '032214_ses-001', '032214', 'sub-032214_ses-001_run-1_T2w.nii.gz', 'c:\\\\Users\\\\Sam\\\\Documents\\\\Database\\\\MacaqueDB\\\\sub-032214_ses-001_run-1_T2w.nii.gz', 1, 'site-amu')\n",
      "New row: ('sub-032214_ses-001_run-1_T2w.nii.gz', '032214_ses-001', '032214', 'anat', 'c:\\\\Users\\\\Sam\\\\Documents\\\\Database\\\\MacaqueDB\\\\sub-032214_ses-001_run-1_T2w.nii.gz', '1', 'site-amu')\n",
      "Image updated successfully.\n",
      "Image already exists in the database:\n",
      "Existing row: ('sub-032214_ses-001_dir-AP_run-1_dwi.nii.gz', '032214_ses-001', '032214', 'sub-032214_ses-001_dir-AP_run-1_dwi.nii.gz', 'c:\\\\Users\\\\Sam\\\\Documents\\\\Database\\\\MacaqueDB\\\\sub-032214_ses-001_dir-AP_run-1_dwi.nii.gz', 1, 'site-amu')\n",
      "New row: ('sub-032214_ses-001_dir-AP_run-1_dwi.nii.gz', '032214_ses-001', '032214', 'dwi', 'c:\\\\Users\\\\Sam\\\\Documents\\\\Database\\\\MacaqueDB\\\\sub-032214_ses-001_dir-AP_run-1_dwi.nii.gz', '1', 'site-amu')\n",
      "Image updated successfully.\n",
      "Image already exists in the database:\n",
      "Existing row: ('sub-032214_ses-001_dir-PA_run-1_dwi.nii.gz', '032214_ses-001', '032214', 'sub-032214_ses-001_dir-PA_run-1_dwi.nii.gz', 'c:\\\\Users\\\\Sam\\\\Documents\\\\Database\\\\MacaqueDB\\\\sub-032214_ses-001_dir-PA_run-1_dwi.nii.gz', 1, 'site-amu')\n",
      "New row: ('sub-032214_ses-001_dir-PA_run-1_dwi.nii.gz', '032214_ses-001', '032214', 'dwi', 'c:\\\\Users\\\\Sam\\\\Documents\\\\Database\\\\MacaqueDB\\\\sub-032214_ses-001_dir-PA_run-1_dwi.nii.gz', '1', 'site-amu')\n",
      "Image updated successfully.\n",
      "Session already exists in the database:\n",
      "Existing row: ('032214_ses-001', '032214', None, 'site-amu', 4)\n",
      "New row: ('032214_ses-001', '032214', None, 'site-amu', 4)\n",
      "Session has no columns to update, skipping\n",
      "Subject already exists in the database:\n",
      "Existing row: ('032214', 'site-amu', 1, None)\n",
      "New row: ('032214', 'site-amu', 1, None)\n",
      "Subject has no columns to update, skipping\n",
      "Image already exists in the database:\n",
      "Existing row: ('sub-032215_ses-001_run-1_T1w.nii.gz', '032215_ses-001', '032215', 'sub-032215_ses-001_run-1_T1w.nii.gz', 'c:\\\\Users\\\\Sam\\\\Documents\\\\Database\\\\MacaqueDB\\\\sub-032215_ses-001_run-1_T1w.nii.gz', 1, 'site-amu')\n",
      "New row: ('sub-032215_ses-001_run-1_T1w.nii.gz', '032215_ses-001', '032215', 'anat', 'c:\\\\Users\\\\Sam\\\\Documents\\\\Database\\\\MacaqueDB\\\\sub-032215_ses-001_run-1_T1w.nii.gz', '1', 'site-amu')\n",
      "Image updated successfully.\n",
      "Image already exists in the database:\n",
      "Existing row: ('sub-032215_ses-001_run-1_T2w.nii.gz', '032215_ses-001', '032215', 'sub-032215_ses-001_run-1_T2w.nii.gz', 'c:\\\\Users\\\\Sam\\\\Documents\\\\Database\\\\MacaqueDB\\\\sub-032215_ses-001_run-1_T2w.nii.gz', 1, 'site-amu')\n",
      "New row: ('sub-032215_ses-001_run-1_T2w.nii.gz', '032215_ses-001', '032215', 'anat', 'c:\\\\Users\\\\Sam\\\\Documents\\\\Database\\\\MacaqueDB\\\\sub-032215_ses-001_run-1_T2w.nii.gz', '1', 'site-amu')\n",
      "Image updated successfully.\n",
      "Image already exists in the database:\n",
      "Existing row: ('sub-032215_ses-001_dir-AP_run-1_dwi.nii.gz', '032215_ses-001', '032215', 'sub-032215_ses-001_dir-AP_run-1_dwi.nii.gz', 'c:\\\\Users\\\\Sam\\\\Documents\\\\Database\\\\MacaqueDB\\\\sub-032215_ses-001_dir-AP_run-1_dwi.nii.gz', 1, 'site-amu')\n",
      "New row: ('sub-032215_ses-001_dir-AP_run-1_dwi.nii.gz', '032215_ses-001', '032215', 'dwi', 'c:\\\\Users\\\\Sam\\\\Documents\\\\Database\\\\MacaqueDB\\\\sub-032215_ses-001_dir-AP_run-1_dwi.nii.gz', '1', 'site-amu')\n",
      "Image updated successfully.\n",
      "Image already exists in the database:\n",
      "Existing row: ('sub-032215_ses-001_dir-PA_run-1_dwi.nii.gz', '032215_ses-001', '032215', 'sub-032215_ses-001_dir-PA_run-1_dwi.nii.gz', 'c:\\\\Users\\\\Sam\\\\Documents\\\\Database\\\\MacaqueDB\\\\sub-032215_ses-001_dir-PA_run-1_dwi.nii.gz', 1, 'site-amu')\n",
      "New row: ('sub-032215_ses-001_dir-PA_run-1_dwi.nii.gz', '032215_ses-001', '032215', 'dwi', 'c:\\\\Users\\\\Sam\\\\Documents\\\\Database\\\\MacaqueDB\\\\sub-032215_ses-001_dir-PA_run-1_dwi.nii.gz', '1', 'site-amu')\n",
      "Image updated successfully.\n",
      "Session already exists in the database:\n",
      "Existing row: ('032215_ses-001', '032215', None, 'site-amu', 4)\n",
      "New row: ('032215_ses-001', '032215', None, 'site-amu', 4)\n",
      "Session has no columns to update, skipping\n",
      "Subject already exists in the database:\n",
      "Existing row: ('032215', 'site-amu', 1, None)\n",
      "New row: ('032215', 'site-amu', 1, None)\n",
      "Subject has no columns to update, skipping\n",
      "Image already exists in the database:\n",
      "Existing row: ('sub-032216_ses-001_run-1_T1w.nii.gz', '032216_ses-001', '032216', 'sub-032216_ses-001_run-1_T1w.nii.gz', 'c:\\\\Users\\\\Sam\\\\Documents\\\\Database\\\\MacaqueDB\\\\sub-032216_ses-001_run-1_T1w.nii.gz', 1, 'site-amu')\n",
      "New row: ('sub-032216_ses-001_run-1_T1w.nii.gz', '032216_ses-001', '032216', 'anat', 'c:\\\\Users\\\\Sam\\\\Documents\\\\Database\\\\MacaqueDB\\\\sub-032216_ses-001_run-1_T1w.nii.gz', '1', 'site-amu')\n",
      "Image updated successfully.\n",
      "Image already exists in the database:\n",
      "Existing row: ('sub-032216_ses-001_run-1_T2w.nii.gz', '032216_ses-001', '032216', 'sub-032216_ses-001_run-1_T2w.nii.gz', 'c:\\\\Users\\\\Sam\\\\Documents\\\\Database\\\\MacaqueDB\\\\sub-032216_ses-001_run-1_T2w.nii.gz', 1, 'site-amu')\n",
      "New row: ('sub-032216_ses-001_run-1_T2w.nii.gz', '032216_ses-001', '032216', 'anat', 'c:\\\\Users\\\\Sam\\\\Documents\\\\Database\\\\MacaqueDB\\\\sub-032216_ses-001_run-1_T2w.nii.gz', '1', 'site-amu')\n",
      "Image updated successfully.\n",
      "Image already exists in the database:\n",
      "Existing row: ('sub-032216_ses-001_dir-AP_run-1_dwi.nii.gz', '032216_ses-001', '032216', 'sub-032216_ses-001_dir-AP_run-1_dwi.nii.gz', 'c:\\\\Users\\\\Sam\\\\Documents\\\\Database\\\\MacaqueDB\\\\sub-032216_ses-001_dir-AP_run-1_dwi.nii.gz', 1, 'site-amu')\n",
      "New row: ('sub-032216_ses-001_dir-AP_run-1_dwi.nii.gz', '032216_ses-001', '032216', 'dwi', 'c:\\\\Users\\\\Sam\\\\Documents\\\\Database\\\\MacaqueDB\\\\sub-032216_ses-001_dir-AP_run-1_dwi.nii.gz', '1', 'site-amu')\n",
      "Image updated successfully.\n",
      "Image already exists in the database:\n",
      "Existing row: ('sub-032216_ses-001_dir-PA_run-1_dwi.nii.gz', '032216_ses-001', '032216', 'sub-032216_ses-001_dir-PA_run-1_dwi.nii.gz', 'c:\\\\Users\\\\Sam\\\\Documents\\\\Database\\\\MacaqueDB\\\\sub-032216_ses-001_dir-PA_run-1_dwi.nii.gz', 1, 'site-amu')\n",
      "New row: ('sub-032216_ses-001_dir-PA_run-1_dwi.nii.gz', '032216_ses-001', '032216', 'dwi', 'c:\\\\Users\\\\Sam\\\\Documents\\\\Database\\\\MacaqueDB\\\\sub-032216_ses-001_dir-PA_run-1_dwi.nii.gz', '1', 'site-amu')\n",
      "Image updated successfully.\n",
      "Session already exists in the database:\n",
      "Existing row: ('032216_ses-001', '032216', None, 'site-amu', 4)\n",
      "New row: ('032216_ses-001', '032216', None, 'site-amu', 4)\n",
      "Session has no columns to update, skipping\n",
      "Subject already exists in the database:\n",
      "Existing row: ('032216', 'site-amu', 1, None)\n",
      "New row: ('032216', 'site-amu', 1, None)\n",
      "Subject has no columns to update, skipping\n"
     ]
    }
   ],
   "source": [
    "# Adding data\n",
    "interface.input('/ocean/projects/bio220042p/shared/data/PRIME-DE/DCAN_in_denoised/site-all')"
   ]
  },
  {
   "cell_type": "code",
   "execution_count": 4,
   "metadata": {},
   "outputs": [],
   "source": [
    "interface.close()"
   ]
  },
  {
   "cell_type": "code",
   "execution_count": 36,
   "metadata": {},
   "outputs": [
    {
     "name": "stdout",
     "output_type": "stream",
     "text": [
      "Data/site-amu ['sub-032213', 'sub-032214', 'sub-032215', 'sub-032216'] ['dataset_description.json']\n",
      "c:\\Users\\Sam\\Documents\\Database\\MacaqueDB\\Data\\site-amu\n",
      "Data/site-amu\\sub-032213 ['ses-001'] []\n",
      "c:\\Users\\Sam\\Documents\\Database\\MacaqueDB\\Data\\site-amu\n",
      "Data/site-amu\\sub-032213\\ses-001 ['anat', 'dwi'] []\n",
      "c:\\Users\\Sam\\Documents\\Database\\MacaqueDB\\Data\\site-amu\n",
      "Data/site-amu\\sub-032213\\ses-001\\anat [] ['sub-032213_ses-001_run-1_T1w.json', 'sub-032213_ses-001_run-1_T1w.nii.gz', 'sub-032213_ses-001_run-1_T2w.json', 'sub-032213_ses-001_run-1_T2w.nii.gz']\n",
      "c:\\Users\\Sam\\Documents\\Database\\MacaqueDB\\Data\\site-amu\n",
      "Data/site-amu\\sub-032213\\ses-001\\dwi [] ['sub-032213_ses-001_dir-AP_run-1_dwi.bval', 'sub-032213_ses-001_dir-AP_run-1_dwi.bvec', 'sub-032213_ses-001_dir-AP_run-1_dwi.json', 'sub-032213_ses-001_dir-AP_run-1_dwi.nii.gz', 'sub-032213_ses-001_dir-PA_run-1_dwi.bval', 'sub-032213_ses-001_dir-PA_run-1_dwi.bvec', 'sub-032213_ses-001_dir-PA_run-1_dwi.json', 'sub-032213_ses-001_dir-PA_run-1_dwi.nii.gz']\n",
      "c:\\Users\\Sam\\Documents\\Database\\MacaqueDB\\Data\\site-amu\n",
      "Data/site-amu\\sub-032214 ['ses-001'] []\n",
      "c:\\Users\\Sam\\Documents\\Database\\MacaqueDB\\Data\\site-amu\n",
      "Data/site-amu\\sub-032214\\ses-001 ['anat', 'dwi'] []\n",
      "c:\\Users\\Sam\\Documents\\Database\\MacaqueDB\\Data\\site-amu\n",
      "Data/site-amu\\sub-032214\\ses-001\\anat [] ['sub-032214_ses-001_run-1_T1w.json', 'sub-032214_ses-001_run-1_T1w.nii.gz', 'sub-032214_ses-001_run-1_T2w.json', 'sub-032214_ses-001_run-1_T2w.nii.gz']\n",
      "c:\\Users\\Sam\\Documents\\Database\\MacaqueDB\\Data\\site-amu\n",
      "Data/site-amu\\sub-032214\\ses-001\\dwi [] ['sub-032214_ses-001_dir-AP_run-1_dwi.bval', 'sub-032214_ses-001_dir-AP_run-1_dwi.bvec', 'sub-032214_ses-001_dir-AP_run-1_dwi.json', 'sub-032214_ses-001_dir-AP_run-1_dwi.nii.gz', 'sub-032214_ses-001_dir-PA_run-1_dwi.bval', 'sub-032214_ses-001_dir-PA_run-1_dwi.bvec', 'sub-032214_ses-001_dir-PA_run-1_dwi.json', 'sub-032214_ses-001_dir-PA_run-1_dwi.nii.gz']\n",
      "c:\\Users\\Sam\\Documents\\Database\\MacaqueDB\\Data\\site-amu\n",
      "Data/site-amu\\sub-032215 ['ses-001'] []\n",
      "c:\\Users\\Sam\\Documents\\Database\\MacaqueDB\\Data\\site-amu\n",
      "Data/site-amu\\sub-032215\\ses-001 ['anat', 'dwi'] []\n",
      "c:\\Users\\Sam\\Documents\\Database\\MacaqueDB\\Data\\site-amu\n",
      "Data/site-amu\\sub-032215\\ses-001\\anat [] ['sub-032215_ses-001_run-1_T1w.json', 'sub-032215_ses-001_run-1_T1w.nii.gz', 'sub-032215_ses-001_run-1_T2w.json', 'sub-032215_ses-001_run-1_T2w.nii.gz']\n",
      "c:\\Users\\Sam\\Documents\\Database\\MacaqueDB\\Data\\site-amu\n",
      "Data/site-amu\\sub-032215\\ses-001\\dwi [] ['sub-032215_ses-001_dir-AP_run-1_dwi.bval', 'sub-032215_ses-001_dir-AP_run-1_dwi.bvec', 'sub-032215_ses-001_dir-AP_run-1_dwi.json', 'sub-032215_ses-001_dir-AP_run-1_dwi.nii.gz', 'sub-032215_ses-001_dir-PA_run-1_dwi.bval', 'sub-032215_ses-001_dir-PA_run-1_dwi.bvec', 'sub-032215_ses-001_dir-PA_run-1_dwi.json', 'sub-032215_ses-001_dir-PA_run-1_dwi.nii.gz']\n",
      "c:\\Users\\Sam\\Documents\\Database\\MacaqueDB\\Data\\site-amu\n",
      "Data/site-amu\\sub-032216 ['ses-001'] []\n",
      "c:\\Users\\Sam\\Documents\\Database\\MacaqueDB\\Data\\site-amu\n",
      "Data/site-amu\\sub-032216\\ses-001 ['anat', 'dwi'] []\n",
      "c:\\Users\\Sam\\Documents\\Database\\MacaqueDB\\Data\\site-amu\n",
      "Data/site-amu\\sub-032216\\ses-001\\anat [] ['sub-032216_ses-001_run-1_T1w.json', 'sub-032216_ses-001_run-1_T1w.nii.gz', 'sub-032216_ses-001_run-1_T2w.json', 'sub-032216_ses-001_run-1_T2w.nii.gz']\n",
      "c:\\Users\\Sam\\Documents\\Database\\MacaqueDB\\Data\\site-amu\n",
      "Data/site-amu\\sub-032216\\ses-001\\dwi [] ['sub-032216_ses-001_dir-AP_run-1_dwi.bval', 'sub-032216_ses-001_dir-AP_run-1_dwi.bvec', 'sub-032216_ses-001_dir-AP_run-1_dwi.json', 'sub-032216_ses-001_dir-AP_run-1_dwi.nii.gz', 'sub-032216_ses-001_dir-PA_run-1_dwi.bval', 'sub-032216_ses-001_dir-PA_run-1_dwi.bvec', 'sub-032216_ses-001_dir-PA_run-1_dwi.json', 'sub-032216_ses-001_dir-PA_run-1_dwi.nii.gz']\n",
      "c:\\Users\\Sam\\Documents\\Database\\MacaqueDB\\Data\\site-amu\n"
     ]
    }
   ],
   "source": [
    "import os\n",
    "for root, dirs, file in os.walk('Data/site-amu'):\n",
    "    print(root, dirs, file)\n",
    "    print(os.path.abspath('Data/site-amu'))"
   ]
  },
  {
   "cell_type": "code",
   "execution_count": 5,
   "metadata": {},
   "outputs": [],
   "source": [
    "## Practice query data\n",
    "\n",
    "import sqlite3\n",
    "\n",
    "conn = sqlite3.connect('macaque_db.db')\n",
    "cursor = conn.cursor()\n",
    "\n",
    "cursor.execute(\"SELECT * FROM Subject\")\n",
    "all_subjects = cursor.fetchall()\n",
    "\n",
    "subject_id = '032213'\n",
    "query = \"SELECT * FROM Session WHERE subject_id = ?\"\n",
    "cursor.execute(query, (subject_id,))\n",
    "sessions = cursor.fetchall()\n",
    "\n",
    "query = \"SELECT gender FROM Subject\"\n",
    "cursor.execute(query)\n",
    "genders = cursor.fetchall()\n",
    "\n",
    "query = \"SELECT image_path FROM Image WHERE site = 'site-amu'\"\n",
    "cursor.execute(query)\n",
    "image_paths = cursor.fetchall()\n",
    "\n",
    "conn.close()"
   ]
  },
  {
   "cell_type": "code",
   "execution_count": 6,
   "metadata": {},
   "outputs": [
    {
     "name": "stdout",
     "output_type": "stream",
     "text": [
      "[('032213', 'site-amu', 1, None), ('032214', 'site-amu', 1, None), ('032215', 'site-amu', 1, None), ('032216', 'site-amu', 1, None)]\n",
      "[('032213_ses-001', '032213', None, 'site-amu', 4)]\n",
      "[(None,), (None,), (None,), (None,)]\n",
      "[('c:\\\\Users\\\\Sam\\\\Documents\\\\Database\\\\MacaqueDB\\\\sub-032213_ses-001_run-1_T1w.nii.gz',), ('c:\\\\Users\\\\Sam\\\\Documents\\\\Database\\\\MacaqueDB\\\\sub-032213_ses-001_run-1_T2w.nii.gz',), ('c:\\\\Users\\\\Sam\\\\Documents\\\\Database\\\\MacaqueDB\\\\sub-032213_ses-001_dir-AP_run-1_dwi.nii.gz',), ('c:\\\\Users\\\\Sam\\\\Documents\\\\Database\\\\MacaqueDB\\\\sub-032213_ses-001_dir-PA_run-1_dwi.nii.gz',), ('c:\\\\Users\\\\Sam\\\\Documents\\\\Database\\\\MacaqueDB\\\\sub-032214_ses-001_run-1_T1w.nii.gz',), ('c:\\\\Users\\\\Sam\\\\Documents\\\\Database\\\\MacaqueDB\\\\sub-032214_ses-001_run-1_T2w.nii.gz',), ('c:\\\\Users\\\\Sam\\\\Documents\\\\Database\\\\MacaqueDB\\\\sub-032214_ses-001_dir-AP_run-1_dwi.nii.gz',), ('c:\\\\Users\\\\Sam\\\\Documents\\\\Database\\\\MacaqueDB\\\\sub-032214_ses-001_dir-PA_run-1_dwi.nii.gz',), ('c:\\\\Users\\\\Sam\\\\Documents\\\\Database\\\\MacaqueDB\\\\sub-032215_ses-001_run-1_T1w.nii.gz',), ('c:\\\\Users\\\\Sam\\\\Documents\\\\Database\\\\MacaqueDB\\\\sub-032215_ses-001_run-1_T2w.nii.gz',), ('c:\\\\Users\\\\Sam\\\\Documents\\\\Database\\\\MacaqueDB\\\\sub-032215_ses-001_dir-AP_run-1_dwi.nii.gz',), ('c:\\\\Users\\\\Sam\\\\Documents\\\\Database\\\\MacaqueDB\\\\sub-032215_ses-001_dir-PA_run-1_dwi.nii.gz',), ('c:\\\\Users\\\\Sam\\\\Documents\\\\Database\\\\MacaqueDB\\\\sub-032216_ses-001_run-1_T1w.nii.gz',), ('c:\\\\Users\\\\Sam\\\\Documents\\\\Database\\\\MacaqueDB\\\\sub-032216_ses-001_run-1_T2w.nii.gz',), ('c:\\\\Users\\\\Sam\\\\Documents\\\\Database\\\\MacaqueDB\\\\sub-032216_ses-001_dir-AP_run-1_dwi.nii.gz',), ('c:\\\\Users\\\\Sam\\\\Documents\\\\Database\\\\MacaqueDB\\\\sub-032216_ses-001_dir-PA_run-1_dwi.nii.gz',)]\n"
     ]
    }
   ],
   "source": [
    "print(all_subjects)\n",
    "print(sessions)\n",
    "print(genders)\n",
    "print(image_paths)"
   ]
  }
 ],
 "metadata": {
  "kernelspec": {
   "display_name": "Python 3",
   "language": "python",
   "name": "python3"
  },
  "language_info": {
   "codemirror_mode": {
    "name": "ipython",
    "version": 3
   },
   "file_extension": ".py",
   "mimetype": "text/x-python",
   "name": "python",
   "nbconvert_exporter": "python",
   "pygments_lexer": "ipython3",
   "version": "3.11.4"
  },
  "orig_nbformat": 4
 },
 "nbformat": 4,
 "nbformat_minor": 2
}
